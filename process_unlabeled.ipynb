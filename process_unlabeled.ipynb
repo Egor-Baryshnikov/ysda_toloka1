{
 "cells": [
  {
   "cell_type": "code",
   "execution_count": 1,
   "id": "ecd0063a-53f7-4d4a-9f2d-373dca956f55",
   "metadata": {},
   "outputs": [],
   "source": [
    "%load_ext autoreload"
   ]
  },
  {
   "cell_type": "code",
   "execution_count": 2,
   "id": "418477de-45cc-48db-b97e-90a5311d072b",
   "metadata": {},
   "outputs": [],
   "source": [
    "%autoreload 2"
   ]
  },
  {
   "cell_type": "code",
   "execution_count": 3,
   "id": "e5cd7c97-12af-4bf1-9e36-d80aaeb2175b",
   "metadata": {},
   "outputs": [],
   "source": [
    "import os\n",
    "import pandas as pd\n",
    "import numpy as np\n",
    "%matplotlib inline"
   ]
  },
  {
   "cell_type": "code",
   "execution_count": 6,
   "id": "3964c13f-e176-4cc6-995d-958f02ccfcfb",
   "metadata": {},
   "outputs": [],
   "source": [
    "from src.model import ImageClassifier\n",
    "from src.utils import ImagesDataset, evaluate_model\n",
    "from src.transforms import transform\n",
    "from pathlib import Path"
   ]
  },
  {
   "cell_type": "code",
   "execution_count": 5,
   "id": "ecfed3fa-aa29-4f16-bc5e-5d89cd7dddd0",
   "metadata": {},
   "outputs": [],
   "source": [
    "model = ImageClassifier.load_from_checkpoint('model.ckpt')"
   ]
  },
  {
   "cell_type": "code",
   "execution_count": 11,
   "id": "d74099dc-d636-4a0e-a0f3-cb760761018a",
   "metadata": {},
   "outputs": [],
   "source": [
    "test_images_paths = [str(x) for x in Path('dataset/classification/train_unlabelled').glob(\"*.png\")]\n",
    "test_images_dataset = ImagesDataset(test_images_paths, transform=transform)"
   ]
  },
  {
   "cell_type": "code",
   "execution_count": 15,
   "id": "8c2267fa-477f-413d-8c22-2a6e715fa62e",
   "metadata": {},
   "outputs": [],
   "source": [
    "model.cuda(1);"
   ]
  },
  {
   "cell_type": "code",
   "execution_count": 20,
   "id": "9986487a-7719-4632-848e-bac34ffb5c60",
   "metadata": {},
   "outputs": [
    {
     "data": {
      "application/vnd.jupyter.widget-view+json": {
       "model_id": "e39ac07d412d4dfa8cfe4536e7ba148b",
       "version_major": 2,
       "version_minor": 0
      },
      "text/plain": [
       "  0%|          | 0/532 [00:00<?, ?it/s]"
      ]
     },
     "metadata": {},
     "output_type": "display_data"
    }
   ],
   "source": [
    "_, predictions = evaluate_model(model, test_images_dataset, batch_size=16, num_workers=20, device='cuda:1')"
   ]
  },
  {
   "cell_type": "code",
   "execution_count": 25,
   "id": "244edc8a-6860-4ef0-b772-da70aba36842",
   "metadata": {},
   "outputs": [],
   "source": [
    "prob = np.array(predictions)"
   ]
  },
  {
   "cell_type": "code",
   "execution_count": 26,
   "id": "b2cb6081-3c0b-45f9-8725-64e69ff3fe60",
   "metadata": {},
   "outputs": [],
   "source": [
    "# Only the image name will be used when evaluating, the rest of the path does not matter\n",
    "submission_df = pd.DataFrame({'img_path': test_images_paths, 'prob0': prob[:,0], 'prob1': prob[:,1]})\n",
    "submission_df.to_csv('unlabeled_prob.csv', index=False)"
   ]
  },
  {
   "cell_type": "code",
   "execution_count": null,
   "id": "a2afc051-d051-4d47-b546-ac80d638e6ad",
   "metadata": {},
   "outputs": [],
   "source": []
  }
 ],
 "metadata": {
  "kernelspec": {
   "display_name": "Python 3",
   "language": "python",
   "name": "python3"
  },
  "language_info": {
   "codemirror_mode": {
    "name": "ipython",
    "version": 3
   },
   "file_extension": ".py",
   "mimetype": "text/x-python",
   "name": "python",
   "nbconvert_exporter": "python",
   "pygments_lexer": "ipython3",
   "version": "3.8.5"
  }
 },
 "nbformat": 4,
 "nbformat_minor": 5
}
